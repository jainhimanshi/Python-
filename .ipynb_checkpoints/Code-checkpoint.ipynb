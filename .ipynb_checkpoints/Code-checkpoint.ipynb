{
 "cells": [
  {
   "cell_type": "code",
   "execution_count": 1,
   "metadata": {},
   "outputs": [],
   "source": [
    "#Coding in python"
   ]
  },
  {
   "cell_type": "code",
   "execution_count": 2,
   "metadata": {},
   "outputs": [
    {
     "name": "stdout",
     "output_type": "stream",
     "text": [
      "4 3\n"
     ]
    }
   ],
   "source": [
    "#swap two variables ::\n",
    "a=3\n",
    "b=4\n",
    "a=a+b\n",
    "b=a-b\n",
    "a=a-b\n",
    "print(a,b)"
   ]
  },
  {
   "cell_type": "code",
   "execution_count": 3,
   "metadata": {},
   "outputs": [
    {
     "name": "stdout",
     "output_type": "stream",
     "text": [
      "120\n"
     ]
    }
   ],
   "source": [
    "#Factorial of number\n",
    "def factorial(n):\n",
    "    if n==1 or n==0:\n",
    "        return 1\n",
    "    else:\n",
    "        return n*factorial(n-1)\n",
    "print(factorial(5))"
   ]
  },
  {
   "cell_type": "code",
   "execution_count": 4,
   "metadata": {},
   "outputs": [
    {
     "name": "stdout",
     "output_type": "stream",
     "text": [
      "Enter a number: 14\n",
      "not prime\n",
      "-1\n"
     ]
    }
   ],
   "source": [
    "#check whether its a prime number\n",
    "def prime(n):\n",
    "    if n==0 or n==1:\n",
    "        print(\"not prime\")\n",
    "        return -1\n",
    "    else:\n",
    "        for i in range(2,n):\n",
    "            if n%i==0:\n",
    "                print(\"not prime\")\n",
    "                return -1\n",
    "    print(\"Prime\")\n",
    "    return 0\n",
    "\n",
    "n = int(input(\"Enter a number: \"))  \n",
    "print(prime(n))"
   ]
  },
  {
   "cell_type": "code",
   "execution_count": 5,
   "metadata": {},
   "outputs": [
    {
     "name": "stdout",
     "output_type": "stream",
     "text": [
      "Enter a number: 407\n",
      "yes\n"
     ]
    }
   ],
   "source": [
    "#check armstrong number :\n",
    "def armstrong(num):\n",
    "    n=num\n",
    "    sum=0\n",
    "    while(n>0):\n",
    "        digit=n%10\n",
    "        n=n//10\n",
    "        sum=sum+(digit*digit*digit)\n",
    "    if sum==num:\n",
    "        print(\"yes\")\n",
    "    else:\n",
    "        print(\"no\")\n",
    "\n",
    "num=int(input(\"Enter a number: \"))\n",
    "armstrong(num)"
   ]
  },
  {
   "cell_type": "code",
   "execution_count": 6,
   "metadata": {},
   "outputs": [
    {
     "name": "stdout",
     "output_type": "stream",
     "text": [
      "Enter the number : 2\n"
     ]
    },
    {
     "data": {
      "text/plain": [
       "1"
      ]
     },
     "execution_count": 6,
     "metadata": {},
     "output_type": "execute_result"
    }
   ],
   "source": [
    "#calculate fibonacci series : \n",
    "def fibonacci(num):\n",
    "    if num==1 or num==0:\n",
    "        return num\n",
    "    else:\n",
    "        return fibonacci(num-1)+fibonacci(num-2)\n",
    "\n",
    "num=int(input(\"Enter the number : \"))\n",
    "fibonacci(num)"
   ]
  },
  {
   "cell_type": "code",
   "execution_count": 18,
   "metadata": {},
   "outputs": [
    {
     "name": "stdout",
     "output_type": "stream",
     "text": [
      "Enter a string: hima\n",
      "no\n",
      "enter string : hima\n",
      "no\n"
     ]
    },
    {
     "data": {
      "text/plain": [
       "False"
      ]
     },
     "execution_count": 18,
     "metadata": {},
     "output_type": "execute_result"
    }
   ],
   "source": [
    "#check palindrome string : reverse of string==string\n",
    "def palindrome(s):\n",
    "    revstr=s[::-1]\n",
    "    if s==revstr:\n",
    "        print(\"yes\")\n",
    "    else:\n",
    "        print(\"no\")        \n",
    "s=(input(\"Enter a string: \"))\n",
    "palindrome(s)\n",
    "\n",
    "def ite_Palindrome(str): \n",
    "  \n",
    "    # Run loop from 0 to len/2  \n",
    "    for i in range(0, int(len(str)/2)):  \n",
    "        if str[i] != str[len(str)-i-1]: \n",
    "            print(\"no\")\n",
    "            return False\n",
    "    print(\"yes\")\n",
    "    return True\n",
    "s=input(\"enter string : \")\n",
    "ite_Palindrome(s)"
   ]
  },
  {
   "cell_type": "code",
   "execution_count": null,
   "metadata": {},
   "outputs": [],
   "source": []
  }
 ],
 "metadata": {
  "kernelspec": {
   "display_name": "Python 3",
   "language": "python",
   "name": "python3"
  },
  "language_info": {
   "codemirror_mode": {
    "name": "ipython",
    "version": 3
   },
   "file_extension": ".py",
   "mimetype": "text/x-python",
   "name": "python",
   "nbconvert_exporter": "python",
   "pygments_lexer": "ipython3",
   "version": "3.7.6"
  }
 },
 "nbformat": 4,
 "nbformat_minor": 2
}
